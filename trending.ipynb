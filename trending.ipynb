{
 "cells": [
  {
   "cell_type": "code",
   "execution_count": 26,
   "id": "a13af274-e934-4bf5-b412-092eaaf16e41",
   "metadata": {},
   "outputs": [],
   "source": [
    "import pandas as pd\n",
    "from datetime import datetime, timedelta"
   ]
  },
  {
   "cell_type": "code",
   "execution_count": 27,
   "id": "b90f78a2-9758-409f-83e7-1495349922d9",
   "metadata": {},
   "outputs": [],
   "source": [
    "transaction_df = pd.read_csv('app_transaction.csv', parse_dates=['timestamp'])\n",
    "analytics_df = pd.read_csv('app_analytics.csv', parse_dates=['timestamp'])"
   ]
  },
  {
   "cell_type": "code",
   "execution_count": 28,
   "id": "3cd20f40-202f-4932-9dfc-45eb786e7cd6",
   "metadata": {},
   "outputs": [],
   "source": [
    "now = datetime.now()\n",
    "time_24h = now - timedelta(hours=24)\n",
    "time_3d = now - timedelta(days=3)\n",
    "time_7d = now - timedelta(days=7)"
   ]
  },
  {
   "cell_type": "code",
   "execution_count": 29,
   "id": "4d4c89ee-be8c-40b3-bc8c-33814fb51d07",
   "metadata": {},
   "outputs": [],
   "source": [
    "def aggregate_signals(df, value_col):\n",
    "    # Filter separately by time window\n",
    "    df_24h = df[df['timestamp'] >= time_24h]\n",
    "    df_3d = df[df['timestamp'] >= time_3d]\n",
    "    df_7d = df[df['timestamp'] >= time_7d]\n",
    "\n",
    "    # Aggregate each\n",
    "   \n",
    "    agg_24h = df_24h.groupby(\"product_id\")[value_col].sum().rename(\"24h\")\n",
    "    agg_3d = df_3d.groupby(\"product_id\")[value_col].sum().rename(\"3d\")\n",
    "    agg_7d = df_7d.groupby(\"product_id\")[value_col].sum().rename(\"7d\")\n",
    "    # total = df.groupby(\"product_id\")[value_col].sum().rename(\"total\")\n",
    "\n",
    "    # Merge all\n",
    "    agg = pd.concat([ agg_24h, agg_3d, agg_7d], axis=1).fillna(0).reset_index()\n",
    "    return agg\n"
   ]
  },
  {
   "cell_type": "code",
   "execution_count": 30,
   "id": "801367a0-3f4a-48e4-aa98-4c86dfae417a",
   "metadata": {},
   "outputs": [],
   "source": [
    "sales_agg = aggregate_signals(transaction_df, \"purchase_count\")\n",
    "sales_agg.columns = ['product_id', '24h_sales', '3d_sales', '7d_sales']\n"
   ]
  },
  {
   "cell_type": "code",
   "execution_count": 31,
   "id": "39c1bcb6-e867-4a50-8eb1-6c5ce06a7d2c",
   "metadata": {},
   "outputs": [],
   "source": [
    "views_agg = aggregate_signals(analytics_df, \"view_count\")\n",
    "views_agg.columns = ['product_id', '24h_views', '3d_views', '7d_views']\n"
   ]
  },
  {
   "cell_type": "code",
   "execution_count": 32,
   "id": "76372e1d-1d9c-493e-b88f-8f4740ebe378",
   "metadata": {},
   "outputs": [],
   "source": [
    "cart_agg = aggregate_signals(analytics_df, \"addtocart_count\")\n",
    "cart_agg.columns = ['product_id', '24h_cart', '3d_cart', '7d_cart']\n"
   ]
  },
  {
   "cell_type": "code",
   "execution_count": 33,
   "id": "9b1b1930-6308-4d12-b0d5-923644a401b8",
   "metadata": {},
   "outputs": [],
   "source": [
    "wish_agg = aggregate_signals(analytics_df, \"wishlist_count\")\n",
    "wish_agg.columns = ['product_id', '24h_wish', '3d_wish', '7d_wish'] "
   ]
  },
  {
   "cell_type": "code",
   "execution_count": 34,
   "id": "fdf6dfbf-b7a5-4400-b508-3043f11e291b",
   "metadata": {},
   "outputs": [],
   "source": [
    "merged = sales_agg.merge(views_agg, on=\"product_id\", how=\"left\") \\\n",
    "                  .merge(cart_agg, on=\"product_id\", how=\"left\") \\\n",
    "                  .merge(wish_agg, on=\"product_id\", how=\"left\")"
   ]
  },
  {
   "cell_type": "code",
   "execution_count": 35,
   "id": "31434609-f6d2-45cc-bb6b-7dc871659438",
   "metadata": {},
   "outputs": [],
   "source": [
    "def normalize(series):\n",
    "    return (series - series.min()) / (series.max() - series.min())"
   ]
  },
  {
   "cell_type": "code",
   "execution_count": 40,
   "id": "9a62f10d-8d70-4455-a253-0043d27aafd5",
   "metadata": {},
   "outputs": [],
   "source": [
    "def calculate_trending_score(df,internal_weights,business_weights,threshold_value):\n",
    "    for i in internal_weights:\n",
    "        sub_weights=internal_weights[i]\n",
    "        df[f\"weighted_{i}\"] = 0.0\n",
    "        for key,value in sub_weights.items():\n",
    "            df[f\"weighted_{i}\"]+=value*df[f\"{key}_{i}\"]\n",
    "\n",
    "    df[\"trending_score\"]=0.0\n",
    "    for key,value in business_weights.items():\n",
    "        df[f\"norm_{key}\"]=normalize(merged[f\"weighted_{key}\"])\n",
    "        df[f\"norm_with-{key}\"]=value*df[f\"norm_{key}\"]\n",
    "        df[\"trending_score\"]+= df[f\"norm_with-{key}\"]\n",
    "\n",
    "    df[\"is_trending\"] = df[\"trending_score\"] >= threshold_value\n",
    "    top_trending = merged[merged[\"is_trending\"]==True].sort_values(by=\"trending_score\", ascending=False)\n",
    "    top_trending.to_csv(\"trending_products_1.csv\", index=False)\n"
   ]
  },
  {
   "cell_type": "code",
   "execution_count": 41,
   "id": "82722dc0-a7fd-42cd-99d0-6724be8f9611",
   "metadata": {},
   "outputs": [],
   "source": [
    "threshold_value=0.60\n",
    "internal_weights={\"sales\":{\"24h\":0.6,\"3d\":0.3,\"7d\":0.1},\n",
    "                 \"views\":{\"24h\":0.6,\"3d\":0.4,\"7d\":0.0},\n",
    "                 \"cart\":{\"24h\":0.6,\"3d\":0.4,\"7d\":0.0},\n",
    "                 \"wish\":{\"24h\":0.6,\"3d\":0.4,\"7d\":0.0}}\n",
    "business_weights={\"sales\":0.50,\"views\":0.10,\"cart\":0.30,\"wish\":0.10}\n",
    "calculate_trending_score(merged,internal_weights,business_weights,threshold_value)"
   ]
  },
  {
   "cell_type": "code",
   "execution_count": 42,
   "id": "27f25eb0-035f-451b-bfaa-d7f1dd70bb3d",
   "metadata": {},
   "outputs": [
    {
     "name": "stdout",
     "output_type": "stream",
     "text": [
      "    weighted_views  norm_views\n",
      "0            201.2    0.454324\n",
      "1            215.8    0.498782\n",
      "2            138.4    0.263094\n",
      "3            329.0    0.843484\n",
      "4            113.6    0.187576\n",
      "5            156.4    0.317905\n",
      "6             52.0    0.000000\n",
      "7            380.4    1.000000\n",
      "8            201.0    0.453715\n",
      "9            162.2    0.335566\n",
      "10            80.0    0.085262\n",
      "11           222.6    0.519488\n",
      "12           115.6    0.193666\n",
      "13            69.2    0.052375\n",
      "14            65.2    0.040195\n",
      "15           193.2    0.429963\n",
      "16           229.0    0.538977\n",
      "17           168.4    0.354446\n",
      "18           249.2    0.600487\n",
      "19           173.0    0.368453\n",
      "    weighted_cart  norm_cart\n",
      "0           141.4   0.756498\n",
      "1            85.6   0.374829\n",
      "2            41.4   0.072503\n",
      "3           137.2   0.727770\n",
      "4            55.2   0.166895\n",
      "5            49.6   0.128591\n",
      "6            56.0   0.172367\n",
      "7           177.0   1.000000\n",
      "8           123.4   0.633379\n",
      "9            77.8   0.321477\n",
      "10           46.0   0.103967\n",
      "11           66.4   0.243502\n",
      "12           72.6   0.285910\n",
      "13           36.0   0.035568\n",
      "14           30.8   0.000000\n",
      "15           57.8   0.184679\n",
      "16           70.4   0.270862\n",
      "17           64.6   0.231190\n",
      "18          114.4   0.571819\n",
      "19           69.6   0.265390\n"
     ]
    }
   ],
   "source": [
    "print(merged[[\"weighted_views\", \"norm_views\"]])\n",
    "print(merged[[\"weighted_cart\", \"norm_cart\"]])"
   ]
  },
  {
   "cell_type": "code",
   "execution_count": null,
   "id": "18a7cfb7-deff-48e9-bc0f-b5ff5ee09da4",
   "metadata": {},
   "outputs": [],
   "source": []
  }
 ],
 "metadata": {
  "kernelspec": {
   "display_name": "Python 3 (ipykernel)",
   "language": "python",
   "name": "python3"
  },
  "language_info": {
   "codemirror_mode": {
    "name": "ipython",
    "version": 3
   },
   "file_extension": ".py",
   "mimetype": "text/x-python",
   "name": "python",
   "nbconvert_exporter": "python",
   "pygments_lexer": "ipython3",
   "version": "3.13.5"
  }
 },
 "nbformat": 4,
 "nbformat_minor": 5
}
