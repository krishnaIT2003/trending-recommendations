{
 "cells": [
  {
   "cell_type": "code",
   "execution_count": 6,
   "id": "a13af274-e934-4bf5-b412-092eaaf16e41",
   "metadata": {},
   "outputs": [],
   "source": [
    "import pandas as pd\n",
    "from datetime import datetime, timedelta"
   ]
  },
  {
   "cell_type": "code",
   "execution_count": 7,
   "id": "b90f78a2-9758-409f-83e7-1495349922d9",
   "metadata": {},
   "outputs": [],
   "source": [
    "transaction_df = pd.read_csv('app_transaction.csv', parse_dates=['timestamp'])\n",
    "analytics_df = pd.read_csv('app_analytics.csv', parse_dates=['timestamp'])"
   ]
  },
  {
   "cell_type": "code",
   "execution_count": 8,
   "id": "3cd20f40-202f-4932-9dfc-45eb786e7cd6",
   "metadata": {},
   "outputs": [],
   "source": [
    "now = datetime.now()\n",
    "time_24h = now - timedelta(hours=24)\n",
    "time_3d = now - timedelta(days=3)\n",
    "time_7d = now - timedelta(days=7)"
   ]
  },
  {
   "cell_type": "code",
   "execution_count": 9,
   "id": "4d4c89ee-be8c-40b3-bc8c-33814fb51d07",
   "metadata": {},
   "outputs": [],
   "source": [
    "def aggregate_signals(df, value_col):\n",
    "    # Filter separately by time window\n",
    "    df_24h = df[df['timestamp'] >= time_24h]\n",
    "    df_3d = df[df['timestamp'] >= time_3d]\n",
    "    df_7d = df[df['timestamp'] >= time_7d]\n",
    "\n",
    "    # Aggregate each\n",
    "   \n",
    "    agg_24h = df_24h.groupby(\"product_id\")[value_col].sum().rename(\"24h\")\n",
    "    agg_3d = df_3d.groupby(\"product_id\")[value_col].sum().rename(\"3d\")\n",
    "    agg_7d = df_7d.groupby(\"product_id\")[value_col].sum().rename(\"7d\")\n",
    "    # total = df.groupby(\"product_id\")[value_col].sum().rename(\"total\")\n",
    "\n",
    "    # Merge all\n",
    "    agg = pd.concat([ agg_24h, agg_3d, agg_7d], axis=1).fillna(0).reset_index()\n",
    "    return agg\n"
   ]
  },
  {
   "cell_type": "code",
   "execution_count": 10,
   "id": "801367a0-3f4a-48e4-aa98-4c86dfae417a",
   "metadata": {},
   "outputs": [
    {
     "ename": "NameError",
     "evalue": "name 'total' is not defined",
     "output_type": "error",
     "traceback": [
      "\u001b[31m---------------------------------------------------------------------------\u001b[39m",
      "\u001b[31mNameError\u001b[39m                                 Traceback (most recent call last)",
      "\u001b[36mCell\u001b[39m\u001b[36m \u001b[39m\u001b[32mIn[10]\u001b[39m\u001b[32m, line 1\u001b[39m\n\u001b[32m----> \u001b[39m\u001b[32m1\u001b[39m sales_agg = \u001b[43maggregate_signals\u001b[49m\u001b[43m(\u001b[49m\u001b[43mtransaction_df\u001b[49m\u001b[43m,\u001b[49m\u001b[43m \u001b[49m\u001b[33;43m\"\u001b[39;49m\u001b[33;43mpurchase_count\u001b[39;49m\u001b[33;43m\"\u001b[39;49m\u001b[43m)\u001b[49m\n\u001b[32m      2\u001b[39m sales_agg.columns = [\u001b[33m'\u001b[39m\u001b[33mproduct_id\u001b[39m\u001b[33m'\u001b[39m, \u001b[33m'\u001b[39m\u001b[33m24h_sales\u001b[39m\u001b[33m'\u001b[39m, \u001b[33m'\u001b[39m\u001b[33m3d_sales\u001b[39m\u001b[33m'\u001b[39m, \u001b[33m'\u001b[39m\u001b[33m7d_sales\u001b[39m\u001b[33m'\u001b[39m]\n",
      "\u001b[36mCell\u001b[39m\u001b[36m \u001b[39m\u001b[32mIn[9]\u001b[39m\u001b[32m, line 15\u001b[39m, in \u001b[36maggregate_signals\u001b[39m\u001b[34m(df, value_col)\u001b[39m\n\u001b[32m     11\u001b[39m agg_7d = df_7d.groupby(\u001b[33m\"\u001b[39m\u001b[33mproduct_id\u001b[39m\u001b[33m\"\u001b[39m)[value_col].sum().rename(\u001b[33m\"\u001b[39m\u001b[33m7d\u001b[39m\u001b[33m\"\u001b[39m)\n\u001b[32m     12\u001b[39m \u001b[38;5;66;03m# total = df.groupby(\"product_id\")[value_col].sum().rename(\"total\")\u001b[39;00m\n\u001b[32m     13\u001b[39m \n\u001b[32m     14\u001b[39m \u001b[38;5;66;03m# Merge all\u001b[39;00m\n\u001b[32m---> \u001b[39m\u001b[32m15\u001b[39m agg = pd.concat([ agg_24h, agg_3d, agg_7d,\u001b[43mtotal\u001b[49m], axis=\u001b[32m1\u001b[39m).fillna(\u001b[32m0\u001b[39m).reset_index()\n\u001b[32m     16\u001b[39m \u001b[38;5;28;01mreturn\u001b[39;00m agg\n",
      "\u001b[31mNameError\u001b[39m: name 'total' is not defined"
     ]
    }
   ],
   "source": [
    "sales_agg = aggregate_signals(transaction_df, \"purchase_count\")\n",
    "sales_agg.columns = ['product_id', '24h_sales', '3d_sales', '7d_sales']\n"
   ]
  },
  {
   "cell_type": "code",
   "execution_count": null,
   "id": "39c1bcb6-e867-4a50-8eb1-6c5ce06a7d2c",
   "metadata": {},
   "outputs": [],
   "source": [
    "views_agg = aggregate_signals(analytics_df, \"view_count\")\n",
    "views_agg.columns = ['product_id', '24h_views', '3d_views', '7d_views']\n"
   ]
  },
  {
   "cell_type": "code",
   "execution_count": null,
   "id": "76372e1d-1d9c-493e-b88f-8f4740ebe378",
   "metadata": {},
   "outputs": [],
   "source": [
    "cart_agg = aggregate_signals(analytics_df, \"addtocart_count\")\n",
    "cart_agg.columns = ['product_id', '24h_cart', '3d_cart', '7d_cart']\n"
   ]
  },
  {
   "cell_type": "code",
   "execution_count": null,
   "id": "fdf6dfbf-b7a5-4400-b508-3043f11e291b",
   "metadata": {},
   "outputs": [],
   "source": [
    "merged = sales_agg.merge(views_agg, on=\"product_id\", how=\"left\") \\\n",
    "                  .merge(cart_agg, on=\"product_id\", how=\"left\") \\\n",
    "                  .merge(wish_agg, on=\"product_id\", how=\"left\")"
   ]
  },
  {
   "cell_type": "code",
   "execution_count": null,
   "id": "31434609-f6d2-45cc-bb6b-7dc871659438",
   "metadata": {},
   "outputs": [],
   "source": [
    "def normalize(series):\n",
    "    return (series - series.min()) / (series.max() - series.min())"
   ]
  },
  {
   "cell_type": "code",
   "execution_count": null,
   "id": "9a62f10d-8d70-4455-a253-0043d27aafd5",
   "metadata": {},
   "outputs": [],
   "source": [
    "def calculate_trending_score(df,internal_weights,business_weights,threshold_value):\n",
    "    for i in internal_weights:\n",
    "        sub_weights=internal_weights[i]\n",
    "        df[f\"weighted_{i}\"] = 0.0\n",
    "        for key,value in sub_weights.items():\n",
    "            df[f\"weighted_{i}\"]+=value*df[f\"{key}_{i}\"]\n",
    "\n",
    "    df[\"trending_score\"]=0.0\n",
    "    for key,value in business_weights.items():\n",
    "        df[f\"norm_{key}\"]=normalize(merged[f\"weighted_{key}\"])\n",
    "        df[\"trending_score\"]+=value*df[f\"norm_{key}\"]\n",
    "\n",
    "    df[\"is_trending\"] = df[\"trending_score\"] >= threshold_value\n",
    "    top_trending = merged[merged[\"is_trending\"]==True].sort_values(by=\"trending_score\", ascending=False)\n",
    "    top_trending.to_csv(\"trending_products_1.csv\", index=False)\n"
   ]
  },
  {
   "cell_type": "code",
   "execution_count": null,
   "id": "82722dc0-a7fd-42cd-99d0-6724be8f9611",
   "metadata": {},
   "outputs": [],
   "source": [
    "threshold_value=0.60\n",
    "internal_weights={\"sales\":{\"24h\":0.6,\"3d\":0.3,\"7d\":0.1},\n",
    "                 \"views\":{\"24h\":0.6,\"3d\":0.4,\"7d\":0.0},\n",
    "                 \"cart\":{\"24h\":0.6,\"3d\":0.4,\"7d\":0.0},\n",
    "                 \"wish\":{\"24h\":0.6,\"3d\":0.4,\"7d\":0.0}}\n",
    "business_weights={\"sales\":0.40,\"views\":0.30,\"cart\":0.15,\"wish\":0.15}\n",
    "calculate_trending_score(merged,internal_weights,business_weights,threshold_value)"
   ]
  },
  {
   "cell_type": "code",
   "execution_count": null,
   "id": "27f25eb0-035f-451b-bfaa-d7f1dd70bb3d",
   "metadata": {},
   "outputs": [],
   "source": []
  }
 ],
 "metadata": {
  "kernelspec": {
   "display_name": "Python 3 (ipykernel)",
   "language": "python",
   "name": "python3"
  },
  "language_info": {
   "codemirror_mode": {
    "name": "ipython",
    "version": 3
   },
   "file_extension": ".py",
   "mimetype": "text/x-python",
   "name": "python",
   "nbconvert_exporter": "python",
   "pygments_lexer": "ipython3",
   "version": "3.13.5"
  }
 },
 "nbformat": 4,
 "nbformat_minor": 5
}
