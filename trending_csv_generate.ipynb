{
 "cells": [
  {
   "cell_type": "code",
   "execution_count": 1,
   "id": "a1af34ab-e584-4ada-b718-ffd5cc727717",
   "metadata": {},
   "outputs": [
    {
     "name": "stdout",
     "output_type": "stream",
     "text": [
      "✅ Files saved: app_transaction.csv, app_analytics.csv\n"
     ]
    }
   ],
   "source": [
    "import pandas as pd\n",
    "import numpy as np\n",
    "from datetime import datetime, timedelta\n",
    "import random\n",
    "\n",
    "# Step 1: Create product list\n",
    "products = [\n",
    "    {'product_id': f'P{i+1:03}', 'product_name': f'Product_{i+1}'}\n",
    "    for i in range(20)\n",
    "]\n",
    "\n",
    "# Step 2: Create timestamps for last 7 days\n",
    "now = datetime.now()\n",
    "timestamps = [now - timedelta(hours=random.randint(0, 168)) for _ in range(300)]\n",
    "\n",
    "# Step 3: Generate transaction_table\n",
    "transaction_data = []\n",
    "for i in range(300):\n",
    "    p = random.choice(products)\n",
    "    transaction_data.append({\n",
    "        'id': i + 1,\n",
    "        'product_id': p['product_id'],\n",
    "        'product_name': p['product_name'],\n",
    "        'timestamp': timestamps[i],\n",
    "        'purchase_count': random.randint(1, 10)\n",
    "    })\n",
    "\n",
    "transaction_df = pd.DataFrame(transaction_data)\n",
    "\n",
    "# Step 4: Generate analytics_table\n",
    "analytics_data = []\n",
    "for i in range(300):\n",
    "    p = random.choice(products)\n",
    "    ts = timestamps[i]\n",
    "    analytics_data.append({\n",
    "        'timestamp': ts,\n",
    "        'product_id': p['product_id'],\n",
    "        'view_count': random.randint(10, 100),\n",
    "        'addtocart_count': random.randint(1, 50),\n",
    "        'wishlist_count': random.randint(1, 30)\n",
    "    })\n",
    "\n",
    "analytics_df = pd.DataFrame(analytics_data)\n",
    "\n",
    "# Step 5: Save them to CSV\n",
    "transaction_df.to_csv('app_transaction.csv', index=False)\n",
    "analytics_df.to_csv('app_analytics.csv', index=False)\n",
    "\n",
    "print(\"✅ Files saved: app_transaction.csv, app_analytics.csv\")\n"
   ]
  }
 ],
 "metadata": {
  "kernelspec": {
   "display_name": "Python 3 (ipykernel)",
   "language": "python",
   "name": "python3"
  },
  "language_info": {
   "codemirror_mode": {
    "name": "ipython",
    "version": 3
   },
   "file_extension": ".py",
   "mimetype": "text/x-python",
   "name": "python",
   "nbconvert_exporter": "python",
   "pygments_lexer": "ipython3",
   "version": "3.13.5"
  }
 },
 "nbformat": 4,
 "nbformat_minor": 5
}
